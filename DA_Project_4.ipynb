{
  "nbformat": 4,
  "nbformat_minor": 0,
  "metadata": {
    "colab": {
      "name": "Исайкина_review_333.ipynb",
      "provenance": [],
      "collapsed_sections": []
    },
    "kernelspec": {
      "display_name": "Python 3",
      "language": "python",
      "name": "python3"
    },
    "language_info": {
      "codemirror_mode": {
        "name": "ipython",
        "version": 3
      },
      "file_extension": ".py",
      "mimetype": "text/x-python",
      "name": "python",
      "nbconvert_exporter": "python",
      "pygments_lexer": "ipython3",
      "version": "3.7.3"
    },
    "toc": {
      "base_numbering": 1,
      "nav_menu": {},
      "number_sections": true,
      "sideBar": true,
      "skip_h1_title": false,
      "title_cell": "Table of Contents",
      "title_sidebar": "Contents",
      "toc_cell": false,
      "toc_position": {},
      "toc_section_display": true,
      "toc_window_display": false
    }
  },
  "cells": [
    {
      "cell_type": "markdown",
      "metadata": {
        "id": "YOkgH9Eme9g4"
      },
      "source": [
        "# FlightDelay. \n",
        "# Проект__4_DA"
      ]
    },
    {
      "cell_type": "markdown",
      "metadata": {
        "id": "29kCDJv4e9g6"
      },
      "source": [
        "Данные - https://www.kaggle.com/usdot/flight-delays\n",
        "\n",
        "Описание - Сводная информация о количестве своевременных, задержанных, отмененных и измененных рейсов в США за 2015 год (5.8 млн записей)\n",
        "\n",
        "\n",
        "Задачи:\n",
        "1. Найти аэропорт с минимальной задержкой вылета \n",
        "2. Самая пунктуальная авиакомпания на прилет в Los Angeles International Airport (Международный аэропорт Лос-Анджелеса)\n",
        "3. Аэропорт с самой большой долей руления на 1 самолетовылет\n",
        "4. Построить модель которая будет выбирать топ 3 аэропорта прилета (вероятность опоздания минимальная – RMSE метрика),  в зависимости от аэропорта вылета  \n"
      ]
    },
    {
      "cell_type": "code",
      "metadata": {
        "colab": {
          "base_uri": "https://localhost:8080/"
        },
        "id": "S4dzsOeNfEbL",
        "outputId": "ed332502-6fe9-4621-9042-8c94804d33bd"
      },
      "source": [
        "from google.colab import drive\n",
        "drive.mount('/content/drive')"
      ],
      "execution_count": 1,
      "outputs": [
        {
          "output_type": "stream",
          "text": [
            "Mounted at /content/drive\n"
          ],
          "name": "stdout"
        }
      ]
    },
    {
      "cell_type": "code",
      "metadata": {
        "colab": {
          "base_uri": "https://localhost:8080/"
        },
        "id": "vA2p46Rli3JV",
        "outputId": "ced90d6e-ddf8-4d40-a004-ae24cf25aa74"
      },
      "source": [
        "cd drive/My\\ Drive/Colab\\ Notebooks"
      ],
      "execution_count": 2,
      "outputs": [
        {
          "output_type": "stream",
          "text": [
            "/content/drive/My Drive/Colab Notebooks\n"
          ],
          "name": "stdout"
        }
      ]
    },
    {
      "cell_type": "code",
      "metadata": {
        "ExecuteTime": {
          "end_time": "2021-07-15T09:55:27.957837Z",
          "start_time": "2021-07-15T09:55:27.953326Z"
        },
        "id": "-h9b2ygRJZao"
      },
      "source": [
        "import pandas as pd\n",
        "import datetime\n",
        "import numpy as np\n",
        "from sklearn.model_selection import train_test_split\n",
        "import numpy as np\n",
        "from sklearn.metrics import mean_squared_error\n",
        "from math import sqrt\n",
        "from sklearn.linear_model import LinearRegression\n",
        "from google.colab import files"
      ],
      "execution_count": 3,
      "outputs": []
    },
    {
      "cell_type": "markdown",
      "metadata": {
        "id": "8mK7vnbOLQpJ"
      },
      "source": [
        "- Загрузим данные с Kaggle.\n",
        "\n",
        "- Три таблицы со сводной информацией о количестве своевременных, задержанных, отмененных и измененных рейсов в США за 2015 год."
      ]
    },
    {
      "cell_type": "code",
      "metadata": {
        "ExecuteTime": {
          "end_time": "2021-07-15T09:56:09.844406Z",
          "start_time": "2021-07-15T09:55:55.980279Z"
        },
        "id": "ZkmrgdoGe9g8"
      },
      "source": [
        "airlines = pd.read_csv('/content/drive/MyDrive/airlines.csv')\n",
        "airports = pd.read_csv('/content/drive/MyDrive/airports.csv')\n",
        "flights = pd.read_csv('/content/drive/MyDrive/flights.csv', dtype={'ORIGIN_AIRPORT':str, 'DESTINATION_AIRPORT':str})"
      ],
      "execution_count": 4,
      "outputs": []
    },
    {
      "cell_type": "markdown",
      "metadata": {
        "id": "aHbaFIlAaNOs"
      },
      "source": [
        "- Проведем исследования данных, для дальнейшей работы"
      ]
    },
    {
      "cell_type": "code",
      "metadata": {
        "ExecuteTime": {
          "end_time": "2021-07-15T09:57:37.686827Z",
          "start_time": "2021-07-15T09:57:37.672882Z"
        },
        "colab": {
          "base_uri": "https://localhost:8080/",
          "height": 204
        },
        "id": "u5yW67GlKqWv",
        "outputId": "cc6dd347-31b7-4ae1-e2b7-25f2d967dc9a"
      },
      "source": [
        "airlines.head()"
      ],
      "execution_count": 5,
      "outputs": [
        {
          "output_type": "execute_result",
          "data": {
            "text/html": [
              "<div>\n",
              "<style scoped>\n",
              "    .dataframe tbody tr th:only-of-type {\n",
              "        vertical-align: middle;\n",
              "    }\n",
              "\n",
              "    .dataframe tbody tr th {\n",
              "        vertical-align: top;\n",
              "    }\n",
              "\n",
              "    .dataframe thead th {\n",
              "        text-align: right;\n",
              "    }\n",
              "</style>\n",
              "<table border=\"1\" class=\"dataframe\">\n",
              "  <thead>\n",
              "    <tr style=\"text-align: right;\">\n",
              "      <th></th>\n",
              "      <th>IATA_CODE</th>\n",
              "      <th>AIRLINE</th>\n",
              "    </tr>\n",
              "  </thead>\n",
              "  <tbody>\n",
              "    <tr>\n",
              "      <th>0</th>\n",
              "      <td>UA</td>\n",
              "      <td>United Air Lines Inc.</td>\n",
              "    </tr>\n",
              "    <tr>\n",
              "      <th>1</th>\n",
              "      <td>AA</td>\n",
              "      <td>American Airlines Inc.</td>\n",
              "    </tr>\n",
              "    <tr>\n",
              "      <th>2</th>\n",
              "      <td>US</td>\n",
              "      <td>US Airways Inc.</td>\n",
              "    </tr>\n",
              "    <tr>\n",
              "      <th>3</th>\n",
              "      <td>F9</td>\n",
              "      <td>Frontier Airlines Inc.</td>\n",
              "    </tr>\n",
              "    <tr>\n",
              "      <th>4</th>\n",
              "      <td>B6</td>\n",
              "      <td>JetBlue Airways</td>\n",
              "    </tr>\n",
              "  </tbody>\n",
              "</table>\n",
              "</div>"
            ],
            "text/plain": [
              "  IATA_CODE                 AIRLINE\n",
              "0        UA   United Air Lines Inc.\n",
              "1        AA  American Airlines Inc.\n",
              "2        US         US Airways Inc.\n",
              "3        F9  Frontier Airlines Inc.\n",
              "4        B6         JetBlue Airways"
            ]
          },
          "metadata": {
            "tags": []
          },
          "execution_count": 5
        }
      ]
    },
    {
      "cell_type": "code",
      "metadata": {
        "ExecuteTime": {
          "end_time": "2021-07-15T09:57:40.871453Z",
          "start_time": "2021-07-15T09:57:40.864079Z"
        },
        "colab": {
          "base_uri": "https://localhost:8080/"
        },
        "id": "OAYhmpZFe9g9",
        "outputId": "12ce96e9-cb2c-482f-8bf8-5aaa0199b2a9"
      },
      "source": [
        "airlines.info()"
      ],
      "execution_count": 6,
      "outputs": [
        {
          "output_type": "stream",
          "text": [
            "<class 'pandas.core.frame.DataFrame'>\n",
            "RangeIndex: 14 entries, 0 to 13\n",
            "Data columns (total 2 columns):\n",
            " #   Column     Non-Null Count  Dtype \n",
            "---  ------     --------------  ----- \n",
            " 0   IATA_CODE  14 non-null     object\n",
            " 1   AIRLINE    14 non-null     object\n",
            "dtypes: object(2)\n",
            "memory usage: 352.0+ bytes\n"
          ],
          "name": "stdout"
        }
      ]
    },
    {
      "cell_type": "markdown",
      "metadata": {
        "id": "lzdYudgpZxQG"
      },
      "source": [
        "- из информации о таблицы airlines видно, что нулевых значений нет (пропуски отсутствуют)"
      ]
    },
    {
      "cell_type": "code",
      "metadata": {
        "ExecuteTime": {
          "end_time": "2021-07-15T09:57:42.140082Z",
          "start_time": "2021-07-15T09:57:42.128556Z"
        },
        "colab": {
          "base_uri": "https://localhost:8080/",
          "height": 204
        },
        "id": "0DoUeuzme9g_",
        "outputId": "712d5d9a-0596-4dc8-b721-f16d9f4a4448"
      },
      "source": [
        "airports.head()"
      ],
      "execution_count": 7,
      "outputs": [
        {
          "output_type": "execute_result",
          "data": {
            "text/html": [
              "<div>\n",
              "<style scoped>\n",
              "    .dataframe tbody tr th:only-of-type {\n",
              "        vertical-align: middle;\n",
              "    }\n",
              "\n",
              "    .dataframe tbody tr th {\n",
              "        vertical-align: top;\n",
              "    }\n",
              "\n",
              "    .dataframe thead th {\n",
              "        text-align: right;\n",
              "    }\n",
              "</style>\n",
              "<table border=\"1\" class=\"dataframe\">\n",
              "  <thead>\n",
              "    <tr style=\"text-align: right;\">\n",
              "      <th></th>\n",
              "      <th>IATA_CODE</th>\n",
              "      <th>AIRPORT</th>\n",
              "      <th>CITY</th>\n",
              "      <th>STATE</th>\n",
              "      <th>COUNTRY</th>\n",
              "      <th>LATITUDE</th>\n",
              "      <th>LONGITUDE</th>\n",
              "    </tr>\n",
              "  </thead>\n",
              "  <tbody>\n",
              "    <tr>\n",
              "      <th>0</th>\n",
              "      <td>ABE</td>\n",
              "      <td>Lehigh Valley International Airport</td>\n",
              "      <td>Allentown</td>\n",
              "      <td>PA</td>\n",
              "      <td>USA</td>\n",
              "      <td>40.65236</td>\n",
              "      <td>-75.44040</td>\n",
              "    </tr>\n",
              "    <tr>\n",
              "      <th>1</th>\n",
              "      <td>ABI</td>\n",
              "      <td>Abilene Regional Airport</td>\n",
              "      <td>Abilene</td>\n",
              "      <td>TX</td>\n",
              "      <td>USA</td>\n",
              "      <td>32.41132</td>\n",
              "      <td>-99.68190</td>\n",
              "    </tr>\n",
              "    <tr>\n",
              "      <th>2</th>\n",
              "      <td>ABQ</td>\n",
              "      <td>Albuquerque International Sunport</td>\n",
              "      <td>Albuquerque</td>\n",
              "      <td>NM</td>\n",
              "      <td>USA</td>\n",
              "      <td>35.04022</td>\n",
              "      <td>-106.60919</td>\n",
              "    </tr>\n",
              "    <tr>\n",
              "      <th>3</th>\n",
              "      <td>ABR</td>\n",
              "      <td>Aberdeen Regional Airport</td>\n",
              "      <td>Aberdeen</td>\n",
              "      <td>SD</td>\n",
              "      <td>USA</td>\n",
              "      <td>45.44906</td>\n",
              "      <td>-98.42183</td>\n",
              "    </tr>\n",
              "    <tr>\n",
              "      <th>4</th>\n",
              "      <td>ABY</td>\n",
              "      <td>Southwest Georgia Regional Airport</td>\n",
              "      <td>Albany</td>\n",
              "      <td>GA</td>\n",
              "      <td>USA</td>\n",
              "      <td>31.53552</td>\n",
              "      <td>-84.19447</td>\n",
              "    </tr>\n",
              "  </tbody>\n",
              "</table>\n",
              "</div>"
            ],
            "text/plain": [
              "  IATA_CODE                              AIRPORT  ...  LATITUDE  LONGITUDE\n",
              "0       ABE  Lehigh Valley International Airport  ...  40.65236  -75.44040\n",
              "1       ABI             Abilene Regional Airport  ...  32.41132  -99.68190\n",
              "2       ABQ    Albuquerque International Sunport  ...  35.04022 -106.60919\n",
              "3       ABR            Aberdeen Regional Airport  ...  45.44906  -98.42183\n",
              "4       ABY   Southwest Georgia Regional Airport  ...  31.53552  -84.19447\n",
              "\n",
              "[5 rows x 7 columns]"
            ]
          },
          "metadata": {
            "tags": []
          },
          "execution_count": 7
        }
      ]
    },
    {
      "cell_type": "code",
      "metadata": {
        "ExecuteTime": {
          "end_time": "2021-07-15T09:57:44.432361Z",
          "start_time": "2021-07-15T09:57:44.424535Z"
        },
        "colab": {
          "base_uri": "https://localhost:8080/"
        },
        "id": "_YJ5973Le9g_",
        "outputId": "6cf7c0a2-5229-4b23-92ca-7263091a3fa2"
      },
      "source": [
        "airports.info()"
      ],
      "execution_count": 8,
      "outputs": [
        {
          "output_type": "stream",
          "text": [
            "<class 'pandas.core.frame.DataFrame'>\n",
            "RangeIndex: 322 entries, 0 to 321\n",
            "Data columns (total 7 columns):\n",
            " #   Column     Non-Null Count  Dtype  \n",
            "---  ------     --------------  -----  \n",
            " 0   IATA_CODE  322 non-null    object \n",
            " 1   AIRPORT    322 non-null    object \n",
            " 2   CITY       322 non-null    object \n",
            " 3   STATE      322 non-null    object \n",
            " 4   COUNTRY    322 non-null    object \n",
            " 5   LATITUDE   319 non-null    float64\n",
            " 6   LONGITUDE  319 non-null    float64\n",
            "dtypes: float64(2), object(5)\n",
            "memory usage: 17.7+ KB\n"
          ],
          "name": "stdout"
        }
      ]
    },
    {
      "cell_type": "markdown",
      "metadata": {
        "id": "pdecpy5FXexq"
      },
      "source": [
        "- из информации о таблицы airports видно, что в последних двух колонках (широта и долгота аэропорта) есть нулевые значения, но мы их использовать не будем, так что и пропуски удалять тоже не будем"
      ]
    },
    {
      "cell_type": "code",
      "metadata": {
        "ExecuteTime": {
          "end_time": "2021-07-15T09:57:45.954296Z",
          "start_time": "2021-07-15T09:57:45.929964Z"
        },
        "colab": {
          "base_uri": "https://localhost:8080/",
          "height": 224
        },
        "id": "hrCN1cBIe9hB",
        "outputId": "f6924616-23bf-4b5e-c414-d501849999f8"
      },
      "source": [
        "flights.head()"
      ],
      "execution_count": 9,
      "outputs": [
        {
          "output_type": "execute_result",
          "data": {
            "text/html": [
              "<div>\n",
              "<style scoped>\n",
              "    .dataframe tbody tr th:only-of-type {\n",
              "        vertical-align: middle;\n",
              "    }\n",
              "\n",
              "    .dataframe tbody tr th {\n",
              "        vertical-align: top;\n",
              "    }\n",
              "\n",
              "    .dataframe thead th {\n",
              "        text-align: right;\n",
              "    }\n",
              "</style>\n",
              "<table border=\"1\" class=\"dataframe\">\n",
              "  <thead>\n",
              "    <tr style=\"text-align: right;\">\n",
              "      <th></th>\n",
              "      <th>YEAR</th>\n",
              "      <th>MONTH</th>\n",
              "      <th>DAY</th>\n",
              "      <th>DAY_OF_WEEK</th>\n",
              "      <th>AIRLINE</th>\n",
              "      <th>FLIGHT_NUMBER</th>\n",
              "      <th>TAIL_NUMBER</th>\n",
              "      <th>ORIGIN_AIRPORT</th>\n",
              "      <th>DESTINATION_AIRPORT</th>\n",
              "      <th>SCHEDULED_DEPARTURE</th>\n",
              "      <th>DEPARTURE_TIME</th>\n",
              "      <th>DEPARTURE_DELAY</th>\n",
              "      <th>TAXI_OUT</th>\n",
              "      <th>WHEELS_OFF</th>\n",
              "      <th>SCHEDULED_TIME</th>\n",
              "      <th>ELAPSED_TIME</th>\n",
              "      <th>AIR_TIME</th>\n",
              "      <th>DISTANCE</th>\n",
              "      <th>WHEELS_ON</th>\n",
              "      <th>TAXI_IN</th>\n",
              "      <th>SCHEDULED_ARRIVAL</th>\n",
              "      <th>ARRIVAL_TIME</th>\n",
              "      <th>ARRIVAL_DELAY</th>\n",
              "      <th>DIVERTED</th>\n",
              "      <th>CANCELLED</th>\n",
              "      <th>CANCELLATION_REASON</th>\n",
              "      <th>AIR_SYSTEM_DELAY</th>\n",
              "      <th>SECURITY_DELAY</th>\n",
              "      <th>AIRLINE_DELAY</th>\n",
              "      <th>LATE_AIRCRAFT_DELAY</th>\n",
              "      <th>WEATHER_DELAY</th>\n",
              "    </tr>\n",
              "  </thead>\n",
              "  <tbody>\n",
              "    <tr>\n",
              "      <th>0</th>\n",
              "      <td>2015</td>\n",
              "      <td>1</td>\n",
              "      <td>1</td>\n",
              "      <td>4</td>\n",
              "      <td>AS</td>\n",
              "      <td>98</td>\n",
              "      <td>N407AS</td>\n",
              "      <td>ANC</td>\n",
              "      <td>SEA</td>\n",
              "      <td>5</td>\n",
              "      <td>2354.0</td>\n",
              "      <td>-11.0</td>\n",
              "      <td>21.0</td>\n",
              "      <td>15.0</td>\n",
              "      <td>205.0</td>\n",
              "      <td>194.0</td>\n",
              "      <td>169.0</td>\n",
              "      <td>1448</td>\n",
              "      <td>404.0</td>\n",
              "      <td>4.0</td>\n",
              "      <td>430</td>\n",
              "      <td>408.0</td>\n",
              "      <td>-22.0</td>\n",
              "      <td>0</td>\n",
              "      <td>0</td>\n",
              "      <td>NaN</td>\n",
              "      <td>NaN</td>\n",
              "      <td>NaN</td>\n",
              "      <td>NaN</td>\n",
              "      <td>NaN</td>\n",
              "      <td>NaN</td>\n",
              "    </tr>\n",
              "    <tr>\n",
              "      <th>1</th>\n",
              "      <td>2015</td>\n",
              "      <td>1</td>\n",
              "      <td>1</td>\n",
              "      <td>4</td>\n",
              "      <td>AA</td>\n",
              "      <td>2336</td>\n",
              "      <td>N3KUAA</td>\n",
              "      <td>LAX</td>\n",
              "      <td>PBI</td>\n",
              "      <td>10</td>\n",
              "      <td>2.0</td>\n",
              "      <td>-8.0</td>\n",
              "      <td>12.0</td>\n",
              "      <td>14.0</td>\n",
              "      <td>280.0</td>\n",
              "      <td>279.0</td>\n",
              "      <td>263.0</td>\n",
              "      <td>2330</td>\n",
              "      <td>737.0</td>\n",
              "      <td>4.0</td>\n",
              "      <td>750</td>\n",
              "      <td>741.0</td>\n",
              "      <td>-9.0</td>\n",
              "      <td>0</td>\n",
              "      <td>0</td>\n",
              "      <td>NaN</td>\n",
              "      <td>NaN</td>\n",
              "      <td>NaN</td>\n",
              "      <td>NaN</td>\n",
              "      <td>NaN</td>\n",
              "      <td>NaN</td>\n",
              "    </tr>\n",
              "    <tr>\n",
              "      <th>2</th>\n",
              "      <td>2015</td>\n",
              "      <td>1</td>\n",
              "      <td>1</td>\n",
              "      <td>4</td>\n",
              "      <td>US</td>\n",
              "      <td>840</td>\n",
              "      <td>N171US</td>\n",
              "      <td>SFO</td>\n",
              "      <td>CLT</td>\n",
              "      <td>20</td>\n",
              "      <td>18.0</td>\n",
              "      <td>-2.0</td>\n",
              "      <td>16.0</td>\n",
              "      <td>34.0</td>\n",
              "      <td>286.0</td>\n",
              "      <td>293.0</td>\n",
              "      <td>266.0</td>\n",
              "      <td>2296</td>\n",
              "      <td>800.0</td>\n",
              "      <td>11.0</td>\n",
              "      <td>806</td>\n",
              "      <td>811.0</td>\n",
              "      <td>5.0</td>\n",
              "      <td>0</td>\n",
              "      <td>0</td>\n",
              "      <td>NaN</td>\n",
              "      <td>NaN</td>\n",
              "      <td>NaN</td>\n",
              "      <td>NaN</td>\n",
              "      <td>NaN</td>\n",
              "      <td>NaN</td>\n",
              "    </tr>\n",
              "    <tr>\n",
              "      <th>3</th>\n",
              "      <td>2015</td>\n",
              "      <td>1</td>\n",
              "      <td>1</td>\n",
              "      <td>4</td>\n",
              "      <td>AA</td>\n",
              "      <td>258</td>\n",
              "      <td>N3HYAA</td>\n",
              "      <td>LAX</td>\n",
              "      <td>MIA</td>\n",
              "      <td>20</td>\n",
              "      <td>15.0</td>\n",
              "      <td>-5.0</td>\n",
              "      <td>15.0</td>\n",
              "      <td>30.0</td>\n",
              "      <td>285.0</td>\n",
              "      <td>281.0</td>\n",
              "      <td>258.0</td>\n",
              "      <td>2342</td>\n",
              "      <td>748.0</td>\n",
              "      <td>8.0</td>\n",
              "      <td>805</td>\n",
              "      <td>756.0</td>\n",
              "      <td>-9.0</td>\n",
              "      <td>0</td>\n",
              "      <td>0</td>\n",
              "      <td>NaN</td>\n",
              "      <td>NaN</td>\n",
              "      <td>NaN</td>\n",
              "      <td>NaN</td>\n",
              "      <td>NaN</td>\n",
              "      <td>NaN</td>\n",
              "    </tr>\n",
              "    <tr>\n",
              "      <th>4</th>\n",
              "      <td>2015</td>\n",
              "      <td>1</td>\n",
              "      <td>1</td>\n",
              "      <td>4</td>\n",
              "      <td>AS</td>\n",
              "      <td>135</td>\n",
              "      <td>N527AS</td>\n",
              "      <td>SEA</td>\n",
              "      <td>ANC</td>\n",
              "      <td>25</td>\n",
              "      <td>24.0</td>\n",
              "      <td>-1.0</td>\n",
              "      <td>11.0</td>\n",
              "      <td>35.0</td>\n",
              "      <td>235.0</td>\n",
              "      <td>215.0</td>\n",
              "      <td>199.0</td>\n",
              "      <td>1448</td>\n",
              "      <td>254.0</td>\n",
              "      <td>5.0</td>\n",
              "      <td>320</td>\n",
              "      <td>259.0</td>\n",
              "      <td>-21.0</td>\n",
              "      <td>0</td>\n",
              "      <td>0</td>\n",
              "      <td>NaN</td>\n",
              "      <td>NaN</td>\n",
              "      <td>NaN</td>\n",
              "      <td>NaN</td>\n",
              "      <td>NaN</td>\n",
              "      <td>NaN</td>\n",
              "    </tr>\n",
              "  </tbody>\n",
              "</table>\n",
              "</div>"
            ],
            "text/plain": [
              "   YEAR  MONTH  DAY  ...  AIRLINE_DELAY LATE_AIRCRAFT_DELAY  WEATHER_DELAY\n",
              "0  2015      1    1  ...            NaN                 NaN            NaN\n",
              "1  2015      1    1  ...            NaN                 NaN            NaN\n",
              "2  2015      1    1  ...            NaN                 NaN            NaN\n",
              "3  2015      1    1  ...            NaN                 NaN            NaN\n",
              "4  2015      1    1  ...            NaN                 NaN            NaN\n",
              "\n",
              "[5 rows x 31 columns]"
            ]
          },
          "metadata": {
            "tags": []
          },
          "execution_count": 9
        }
      ]
    },
    {
      "cell_type": "code",
      "metadata": {
        "ExecuteTime": {
          "end_time": "2021-07-15T09:57:52.513747Z",
          "start_time": "2021-07-15T09:57:52.505901Z"
        },
        "colab": {
          "base_uri": "https://localhost:8080/"
        },
        "id": "q5oNGtA3BL7z",
        "outputId": "472074b1-1a74-4360-86ba-0c44ee63b9ec"
      },
      "source": [
        "flights.info()"
      ],
      "execution_count": 10,
      "outputs": [
        {
          "output_type": "stream",
          "text": [
            "<class 'pandas.core.frame.DataFrame'>\n",
            "RangeIndex: 5819079 entries, 0 to 5819078\n",
            "Data columns (total 31 columns):\n",
            " #   Column               Dtype  \n",
            "---  ------               -----  \n",
            " 0   YEAR                 int64  \n",
            " 1   MONTH                int64  \n",
            " 2   DAY                  int64  \n",
            " 3   DAY_OF_WEEK          int64  \n",
            " 4   AIRLINE              object \n",
            " 5   FLIGHT_NUMBER        int64  \n",
            " 6   TAIL_NUMBER          object \n",
            " 7   ORIGIN_AIRPORT       object \n",
            " 8   DESTINATION_AIRPORT  object \n",
            " 9   SCHEDULED_DEPARTURE  int64  \n",
            " 10  DEPARTURE_TIME       float64\n",
            " 11  DEPARTURE_DELAY      float64\n",
            " 12  TAXI_OUT             float64\n",
            " 13  WHEELS_OFF           float64\n",
            " 14  SCHEDULED_TIME       float64\n",
            " 15  ELAPSED_TIME         float64\n",
            " 16  AIR_TIME             float64\n",
            " 17  DISTANCE             int64  \n",
            " 18  WHEELS_ON            float64\n",
            " 19  TAXI_IN              float64\n",
            " 20  SCHEDULED_ARRIVAL    int64  \n",
            " 21  ARRIVAL_TIME         float64\n",
            " 22  ARRIVAL_DELAY        float64\n",
            " 23  DIVERTED             int64  \n",
            " 24  CANCELLED            int64  \n",
            " 25  CANCELLATION_REASON  object \n",
            " 26  AIR_SYSTEM_DELAY     float64\n",
            " 27  SECURITY_DELAY       float64\n",
            " 28  AIRLINE_DELAY        float64\n",
            " 29  LATE_AIRCRAFT_DELAY  float64\n",
            " 30  WEATHER_DELAY        float64\n",
            "dtypes: float64(16), int64(10), object(5)\n",
            "memory usage: 1.3+ GB\n"
          ],
          "name": "stdout"
        }
      ]
    },
    {
      "cell_type": "markdown",
      "metadata": {
        "id": "i7mMe1IoZI6U"
      },
      "source": [
        "- посмотрим процент нулевых значений (пропусков) в таблице flights, так как по запросу 'info()', информации по пропускам отсутствует "
      ]
    },
    {
      "cell_type": "code",
      "metadata": {
        "ExecuteTime": {
          "end_time": "2021-07-15T09:57:55.874468Z",
          "start_time": "2021-07-15T09:57:54.393744Z"
        },
        "colab": {
          "base_uri": "https://localhost:8080/"
        },
        "id": "RarKtmooPPB_",
        "outputId": "6b6966dc-a08b-45ca-9892-b055acd5fa16"
      },
      "source": [
        "flights_null = flights.isnull().sum()*100/flights.shape[0]\n",
        "flights_null"
      ],
      "execution_count": 11,
      "outputs": [
        {
          "output_type": "execute_result",
          "data": {
            "text/plain": [
              "YEAR                    0.000000\n",
              "MONTH                   0.000000\n",
              "DAY                     0.000000\n",
              "DAY_OF_WEEK             0.000000\n",
              "AIRLINE                 0.000000\n",
              "FLIGHT_NUMBER           0.000000\n",
              "TAIL_NUMBER             0.252978\n",
              "ORIGIN_AIRPORT          0.000000\n",
              "DESTINATION_AIRPORT     0.000000\n",
              "SCHEDULED_DEPARTURE     0.000000\n",
              "DEPARTURE_TIME          1.480526\n",
              "DEPARTURE_DELAY         1.480526\n",
              "TAXI_OUT                1.530259\n",
              "WHEELS_OFF              1.530259\n",
              "SCHEDULED_TIME          0.000103\n",
              "ELAPSED_TIME            1.805629\n",
              "AIR_TIME                1.805629\n",
              "DISTANCE                0.000000\n",
              "WHEELS_ON               1.589822\n",
              "TAXI_IN                 1.589822\n",
              "SCHEDULED_ARRIVAL       0.000000\n",
              "ARRIVAL_TIME            1.589822\n",
              "ARRIVAL_DELAY           1.805629\n",
              "DIVERTED                0.000000\n",
              "CANCELLED               0.000000\n",
              "CANCELLATION_REASON    98.455357\n",
              "AIR_SYSTEM_DELAY       81.724960\n",
              "SECURITY_DELAY         81.724960\n",
              "AIRLINE_DELAY          81.724960\n",
              "LATE_AIRCRAFT_DELAY    81.724960\n",
              "WEATHER_DELAY          81.724960\n",
              "dtype: float64"
            ]
          },
          "metadata": {
            "tags": []
          },
          "execution_count": 11
        }
      ]
    },
    {
      "cell_type": "markdown",
      "metadata": {
        "id": "DToHHMy9dJBW"
      },
      "source": [
        "- Будем убирать нулевые значения, при необходимости (если будем использовать их в задачах)"
      ]
    },
    {
      "cell_type": "markdown",
      "metadata": {
        "id": "_xFuIyA6e9hE"
      },
      "source": [
        "# 1. Найти аэропорт с минимальной задержкой вылета"
      ]
    },
    {
      "cell_type": "markdown",
      "metadata": {
        "id": "-N7elndtvu-c"
      },
      "source": [
        "**- Посмотрим уникальные значения по cтобцам: ORIGIN_AIRPORT и DISTINATION_AIRPORT, чтобы стравнить с набором данных по IATA_CODE (идентификатор аэропорта) из таблицы airports**"
      ]
    },
    {
      "cell_type": "code",
      "metadata": {
        "ExecuteTime": {
          "end_time": "2021-07-15T10:49:27.507102Z",
          "start_time": "2021-07-15T10:49:27.299073Z"
        },
        "colab": {
          "base_uri": "https://localhost:8080/"
        },
        "id": "qus7VuXNvyF5",
        "outputId": "6c601cb2-8ef6-4b66-a57f-b929475433ee"
      },
      "source": [
        "flights.ORIGIN_AIRPORT.nunique()"
      ],
      "execution_count": 12,
      "outputs": [
        {
          "output_type": "execute_result",
          "data": {
            "text/plain": [
              "628"
            ]
          },
          "metadata": {
            "tags": []
          },
          "execution_count": 12
        }
      ]
    },
    {
      "cell_type": "code",
      "metadata": {
        "ExecuteTime": {
          "end_time": "2021-07-15T10:49:28.405364Z",
          "start_time": "2021-07-15T10:49:28.201309Z"
        },
        "colab": {
          "base_uri": "https://localhost:8080/"
        },
        "id": "jQvpAMzAwB04",
        "outputId": "01631dc8-30ac-4cbe-82f0-26cd77b597de"
      },
      "source": [
        "flights.DESTINATION_AIRPORT.nunique()"
      ],
      "execution_count": 13,
      "outputs": [
        {
          "output_type": "execute_result",
          "data": {
            "text/plain": [
              "629"
            ]
          },
          "metadata": {
            "tags": []
          },
          "execution_count": 13
        }
      ]
    },
    {
      "cell_type": "code",
      "metadata": {
        "ExecuteTime": {
          "end_time": "2021-07-15T10:51:06.634408Z",
          "start_time": "2021-07-15T10:50:24.633962Z"
        },
        "id": "cqq_TvuTe9hE"
      },
      "source": [
        "flights_drop = flights.merge(airports[['IATA_CODE']],how='inner', left_on='ORIGIN_AIRPORT', right_on='IATA_CODE').drop('IATA_CODE',axis=1)\n",
        "flights_drop = flights.merge(airports[['IATA_CODE']],how='inner', left_on='DESTINATION_AIRPORT', right_on='IATA_CODE').drop('IATA_CODE',axis=1)"
      ],
      "execution_count": 14,
      "outputs": []
    },
    {
      "cell_type": "code",
      "metadata": {
        "ExecuteTime": {
          "end_time": "2021-07-15T10:04:55.283381Z",
          "start_time": "2021-07-15T10:04:55.257100Z"
        },
        "colab": {
          "base_uri": "https://localhost:8080/",
          "height": 224
        },
        "id": "QFpA15vmBnxS",
        "outputId": "20aeb4d5-8a46-4ba6-97c0-242beb1cd3ff"
      },
      "source": [
        "flights_drop.head()"
      ],
      "execution_count": 15,
      "outputs": [
        {
          "output_type": "execute_result",
          "data": {
            "text/html": [
              "<div>\n",
              "<style scoped>\n",
              "    .dataframe tbody tr th:only-of-type {\n",
              "        vertical-align: middle;\n",
              "    }\n",
              "\n",
              "    .dataframe tbody tr th {\n",
              "        vertical-align: top;\n",
              "    }\n",
              "\n",
              "    .dataframe thead th {\n",
              "        text-align: right;\n",
              "    }\n",
              "</style>\n",
              "<table border=\"1\" class=\"dataframe\">\n",
              "  <thead>\n",
              "    <tr style=\"text-align: right;\">\n",
              "      <th></th>\n",
              "      <th>YEAR</th>\n",
              "      <th>MONTH</th>\n",
              "      <th>DAY</th>\n",
              "      <th>DAY_OF_WEEK</th>\n",
              "      <th>AIRLINE</th>\n",
              "      <th>FLIGHT_NUMBER</th>\n",
              "      <th>TAIL_NUMBER</th>\n",
              "      <th>ORIGIN_AIRPORT</th>\n",
              "      <th>DESTINATION_AIRPORT</th>\n",
              "      <th>SCHEDULED_DEPARTURE</th>\n",
              "      <th>DEPARTURE_TIME</th>\n",
              "      <th>DEPARTURE_DELAY</th>\n",
              "      <th>TAXI_OUT</th>\n",
              "      <th>WHEELS_OFF</th>\n",
              "      <th>SCHEDULED_TIME</th>\n",
              "      <th>ELAPSED_TIME</th>\n",
              "      <th>AIR_TIME</th>\n",
              "      <th>DISTANCE</th>\n",
              "      <th>WHEELS_ON</th>\n",
              "      <th>TAXI_IN</th>\n",
              "      <th>SCHEDULED_ARRIVAL</th>\n",
              "      <th>ARRIVAL_TIME</th>\n",
              "      <th>ARRIVAL_DELAY</th>\n",
              "      <th>DIVERTED</th>\n",
              "      <th>CANCELLED</th>\n",
              "      <th>CANCELLATION_REASON</th>\n",
              "      <th>AIR_SYSTEM_DELAY</th>\n",
              "      <th>SECURITY_DELAY</th>\n",
              "      <th>AIRLINE_DELAY</th>\n",
              "      <th>LATE_AIRCRAFT_DELAY</th>\n",
              "      <th>WEATHER_DELAY</th>\n",
              "    </tr>\n",
              "  </thead>\n",
              "  <tbody>\n",
              "    <tr>\n",
              "      <th>0</th>\n",
              "      <td>2015</td>\n",
              "      <td>1</td>\n",
              "      <td>1</td>\n",
              "      <td>4</td>\n",
              "      <td>AS</td>\n",
              "      <td>98</td>\n",
              "      <td>N407AS</td>\n",
              "      <td>ANC</td>\n",
              "      <td>SEA</td>\n",
              "      <td>5</td>\n",
              "      <td>2354.0</td>\n",
              "      <td>-11.0</td>\n",
              "      <td>21.0</td>\n",
              "      <td>15.0</td>\n",
              "      <td>205.0</td>\n",
              "      <td>194.0</td>\n",
              "      <td>169.0</td>\n",
              "      <td>1448</td>\n",
              "      <td>404.0</td>\n",
              "      <td>4.0</td>\n",
              "      <td>430</td>\n",
              "      <td>408.0</td>\n",
              "      <td>-22.0</td>\n",
              "      <td>0</td>\n",
              "      <td>0</td>\n",
              "      <td>NaN</td>\n",
              "      <td>NaN</td>\n",
              "      <td>NaN</td>\n",
              "      <td>NaN</td>\n",
              "      <td>NaN</td>\n",
              "      <td>NaN</td>\n",
              "    </tr>\n",
              "    <tr>\n",
              "      <th>1</th>\n",
              "      <td>2015</td>\n",
              "      <td>1</td>\n",
              "      <td>1</td>\n",
              "      <td>4</td>\n",
              "      <td>AS</td>\n",
              "      <td>108</td>\n",
              "      <td>N309AS</td>\n",
              "      <td>ANC</td>\n",
              "      <td>SEA</td>\n",
              "      <td>45</td>\n",
              "      <td>41.0</td>\n",
              "      <td>-4.0</td>\n",
              "      <td>17.0</td>\n",
              "      <td>58.0</td>\n",
              "      <td>204.0</td>\n",
              "      <td>194.0</td>\n",
              "      <td>173.0</td>\n",
              "      <td>1448</td>\n",
              "      <td>451.0</td>\n",
              "      <td>4.0</td>\n",
              "      <td>509</td>\n",
              "      <td>455.0</td>\n",
              "      <td>-14.0</td>\n",
              "      <td>0</td>\n",
              "      <td>0</td>\n",
              "      <td>NaN</td>\n",
              "      <td>NaN</td>\n",
              "      <td>NaN</td>\n",
              "      <td>NaN</td>\n",
              "      <td>NaN</td>\n",
              "      <td>NaN</td>\n",
              "    </tr>\n",
              "    <tr>\n",
              "      <th>2</th>\n",
              "      <td>2015</td>\n",
              "      <td>1</td>\n",
              "      <td>1</td>\n",
              "      <td>4</td>\n",
              "      <td>DL</td>\n",
              "      <td>1560</td>\n",
              "      <td>N3743H</td>\n",
              "      <td>ANC</td>\n",
              "      <td>SEA</td>\n",
              "      <td>45</td>\n",
              "      <td>31.0</td>\n",
              "      <td>-14.0</td>\n",
              "      <td>25.0</td>\n",
              "      <td>56.0</td>\n",
              "      <td>210.0</td>\n",
              "      <td>200.0</td>\n",
              "      <td>171.0</td>\n",
              "      <td>1448</td>\n",
              "      <td>447.0</td>\n",
              "      <td>4.0</td>\n",
              "      <td>515</td>\n",
              "      <td>451.0</td>\n",
              "      <td>-24.0</td>\n",
              "      <td>0</td>\n",
              "      <td>0</td>\n",
              "      <td>NaN</td>\n",
              "      <td>NaN</td>\n",
              "      <td>NaN</td>\n",
              "      <td>NaN</td>\n",
              "      <td>NaN</td>\n",
              "      <td>NaN</td>\n",
              "    </tr>\n",
              "    <tr>\n",
              "      <th>3</th>\n",
              "      <td>2015</td>\n",
              "      <td>1</td>\n",
              "      <td>1</td>\n",
              "      <td>4</td>\n",
              "      <td>AS</td>\n",
              "      <td>130</td>\n",
              "      <td>N457AS</td>\n",
              "      <td>FAI</td>\n",
              "      <td>SEA</td>\n",
              "      <td>115</td>\n",
              "      <td>107.0</td>\n",
              "      <td>-8.0</td>\n",
              "      <td>25.0</td>\n",
              "      <td>132.0</td>\n",
              "      <td>213.0</td>\n",
              "      <td>218.0</td>\n",
              "      <td>186.0</td>\n",
              "      <td>1533</td>\n",
              "      <td>538.0</td>\n",
              "      <td>7.0</td>\n",
              "      <td>548</td>\n",
              "      <td>545.0</td>\n",
              "      <td>-3.0</td>\n",
              "      <td>0</td>\n",
              "      <td>0</td>\n",
              "      <td>NaN</td>\n",
              "      <td>NaN</td>\n",
              "      <td>NaN</td>\n",
              "      <td>NaN</td>\n",
              "      <td>NaN</td>\n",
              "      <td>NaN</td>\n",
              "    </tr>\n",
              "    <tr>\n",
              "      <th>4</th>\n",
              "      <td>2015</td>\n",
              "      <td>1</td>\n",
              "      <td>1</td>\n",
              "      <td>4</td>\n",
              "      <td>AS</td>\n",
              "      <td>136</td>\n",
              "      <td>N431AS</td>\n",
              "      <td>ANC</td>\n",
              "      <td>SEA</td>\n",
              "      <td>135</td>\n",
              "      <td>NaN</td>\n",
              "      <td>NaN</td>\n",
              "      <td>NaN</td>\n",
              "      <td>NaN</td>\n",
              "      <td>205.0</td>\n",
              "      <td>NaN</td>\n",
              "      <td>NaN</td>\n",
              "      <td>1448</td>\n",
              "      <td>NaN</td>\n",
              "      <td>NaN</td>\n",
              "      <td>600</td>\n",
              "      <td>NaN</td>\n",
              "      <td>NaN</td>\n",
              "      <td>0</td>\n",
              "      <td>1</td>\n",
              "      <td>A</td>\n",
              "      <td>NaN</td>\n",
              "      <td>NaN</td>\n",
              "      <td>NaN</td>\n",
              "      <td>NaN</td>\n",
              "      <td>NaN</td>\n",
              "    </tr>\n",
              "  </tbody>\n",
              "</table>\n",
              "</div>"
            ],
            "text/plain": [
              "   YEAR  MONTH  DAY  ...  AIRLINE_DELAY LATE_AIRCRAFT_DELAY  WEATHER_DELAY\n",
              "0  2015      1    1  ...            NaN                 NaN            NaN\n",
              "1  2015      1    1  ...            NaN                 NaN            NaN\n",
              "2  2015      1    1  ...            NaN                 NaN            NaN\n",
              "3  2015      1    1  ...            NaN                 NaN            NaN\n",
              "4  2015      1    1  ...            NaN                 NaN            NaN\n",
              "\n",
              "[5 rows x 31 columns]"
            ]
          },
          "metadata": {
            "tags": []
          },
          "execution_count": 15
        }
      ]
    },
    {
      "cell_type": "markdown",
      "metadata": {
        "id": "stpNA4kzXpNY"
      },
      "source": [
        "**- Видно что данные из таблицы airports, по колонке AIRPORT составляют 322 уникальных значени, а в таблице flights по колонкам ORIGIN_AIRPORT и DESTINATION_AIRPORT их больше, что говорит о наличии аэропортов, которых нет в исходной таблице aitports.**\n",
        "\n",
        "- Давайте уберем ненужные записи из таблицы flights и сразу уберем пропуски (нулевые значения) т.е. объеденим данных из двух таблиц"
      ]
    },
    {
      "cell_type": "code",
      "metadata": {
        "ExecuteTime": {
          "end_time": "2021-07-15T10:51:06.842742Z",
          "start_time": "2021-07-15T10:51:06.636775Z"
        },
        "colab": {
          "base_uri": "https://localhost:8080/"
        },
        "id": "_Eat9nv7e9hE",
        "outputId": "81e54f63-00fb-4b14-f5ab-f7f39b3db38a"
      },
      "source": [
        "flights_drop.ORIGIN_AIRPORT.nunique()"
      ],
      "execution_count": 16,
      "outputs": [
        {
          "output_type": "execute_result",
          "data": {
            "text/plain": [
              "322"
            ]
          },
          "metadata": {
            "tags": []
          },
          "execution_count": 16
        }
      ]
    },
    {
      "cell_type": "code",
      "metadata": {
        "ExecuteTime": {
          "end_time": "2021-07-15T10:51:07.033384Z",
          "start_time": "2021-07-15T10:51:06.844885Z"
        },
        "colab": {
          "base_uri": "https://localhost:8080/"
        },
        "id": "3ICxGjIo0YxG",
        "outputId": "8bf5a544-8974-4a34-cc0b-9ae55954886f"
      },
      "source": [
        "flights_drop.DESTINATION_AIRPORT.nunique()"
      ],
      "execution_count": 17,
      "outputs": [
        {
          "output_type": "execute_result",
          "data": {
            "text/plain": [
              "322"
            ]
          },
          "metadata": {
            "tags": []
          },
          "execution_count": 17
        }
      ]
    },
    {
      "cell_type": "markdown",
      "metadata": {
        "id": "3UrlARswfmmd"
      },
      "source": [
        "**- Получаем одинаковое значение по колонкам, без пропусков**"
      ]
    },
    {
      "cell_type": "markdown",
      "metadata": {
        "id": "-jq3hvjkr4ti"
      },
      "source": [
        "- Из полученного DataFrame, проводим группировку по аэропортам вылета (ORIGIN_AIRPORT) и среднему значению полной зарержки при отправлении (DEPARTURE_DELAY), при этом убираем отмененные рейсы (CANCELLED=1), так как у нас задача: 'найти аэропорты с минимальной задержкой вылета'\n",
        "- Из полученного набора данных, проводим сортировку по колонке  DEPARTURE_DELAY и собираем данные по двум значениям: ORIGIN_AIRPORT (стартовый аэропорт) и DEPARTURE_DELAY (полная задержка при отправки) по возрастанию "
      ]
    },
    {
      "cell_type": "code",
      "metadata": {
        "ExecuteTime": {
          "end_time": "2021-07-15T10:56:20.208505Z",
          "start_time": "2021-07-15T10:56:18.743115Z"
        },
        "colab": {
          "base_uri": "https://localhost:8080/",
          "height": 419
        },
        "id": "rzA2z_wjWl1C",
        "outputId": "9d414138-2dde-4ce2-f56d-bfac7ee32ff9"
      },
      "source": [
        "flights_sort = flights_drop[flights_drop.CANCELLED==0].groupby('ORIGIN_AIRPORT')['DEPARTURE_DELAY'].mean().reset_index().sort_values(by='DEPARTURE_DELAY')\n",
        "flights_sort"
      ],
      "execution_count": 18,
      "outputs": [
        {
          "output_type": "execute_result",
          "data": {
            "text/html": [
              "<div>\n",
              "<style scoped>\n",
              "    .dataframe tbody tr th:only-of-type {\n",
              "        vertical-align: middle;\n",
              "    }\n",
              "\n",
              "    .dataframe tbody tr th {\n",
              "        vertical-align: top;\n",
              "    }\n",
              "\n",
              "    .dataframe thead th {\n",
              "        text-align: right;\n",
              "    }\n",
              "</style>\n",
              "<table border=\"1\" class=\"dataframe\">\n",
              "  <thead>\n",
              "    <tr style=\"text-align: right;\">\n",
              "      <th></th>\n",
              "      <th>ORIGIN_AIRPORT</th>\n",
              "      <th>DEPARTURE_DELAY</th>\n",
              "    </tr>\n",
              "  </thead>\n",
              "  <tbody>\n",
              "    <tr>\n",
              "      <th>320</th>\n",
              "      <td>YAK</td>\n",
              "      <td>-6.292237</td>\n",
              "    </tr>\n",
              "    <tr>\n",
              "      <th>70</th>\n",
              "      <td>CNY</td>\n",
              "      <td>-6.058537</td>\n",
              "    </tr>\n",
              "    <tr>\n",
              "      <th>98</th>\n",
              "      <td>EKO</td>\n",
              "      <td>-3.771760</td>\n",
              "    </tr>\n",
              "    <tr>\n",
              "      <th>314</th>\n",
              "      <td>VEL</td>\n",
              "      <td>-3.740000</td>\n",
              "    </tr>\n",
              "    <tr>\n",
              "      <th>56</th>\n",
              "      <td>CDV</td>\n",
              "      <td>-3.261868</td>\n",
              "    </tr>\n",
              "    <tr>\n",
              "      <th>...</th>\n",
              "      <td>...</td>\n",
              "      <td>...</td>\n",
              "    </tr>\n",
              "    <tr>\n",
              "      <th>231</th>\n",
              "      <td>OTH</td>\n",
              "      <td>17.777358</td>\n",
              "    </tr>\n",
              "    <tr>\n",
              "      <th>293</th>\n",
              "      <td>STC</td>\n",
              "      <td>18.692308</td>\n",
              "    </tr>\n",
              "    <tr>\n",
              "      <th>147</th>\n",
              "      <td>HYA</td>\n",
              "      <td>23.182927</td>\n",
              "    </tr>\n",
              "    <tr>\n",
              "      <th>219</th>\n",
              "      <td>MVY</td>\n",
              "      <td>25.907317</td>\n",
              "    </tr>\n",
              "    <tr>\n",
              "      <th>154</th>\n",
              "      <td>ILG</td>\n",
              "      <td>29.568421</td>\n",
              "    </tr>\n",
              "  </tbody>\n",
              "</table>\n",
              "<p>322 rows × 2 columns</p>\n",
              "</div>"
            ],
            "text/plain": [
              "    ORIGIN_AIRPORT  DEPARTURE_DELAY\n",
              "320            YAK        -6.292237\n",
              "70             CNY        -6.058537\n",
              "98             EKO        -3.771760\n",
              "314            VEL        -3.740000\n",
              "56             CDV        -3.261868\n",
              "..             ...              ...\n",
              "231            OTH        17.777358\n",
              "293            STC        18.692308\n",
              "147            HYA        23.182927\n",
              "219            MVY        25.907317\n",
              "154            ILG        29.568421\n",
              "\n",
              "[322 rows x 2 columns]"
            ]
          },
          "metadata": {
            "tags": []
          },
          "execution_count": 18
        }
      ]
    },
    {
      "cell_type": "markdown",
      "metadata": {
        "id": "fwW9kE097idG"
      },
      "source": [
        "- Далее таблицу flights_sort объединяем с таблицей airports, чтобы получить данные по найденному аэропорту с минимальной задержкой вылета"
      ]
    },
    {
      "cell_type": "code",
      "metadata": {
        "colab": {
          "base_uri": "https://localhost:8080/",
          "height": 80
        },
        "id": "If2-GfU6nOy7",
        "outputId": "4c1666df-48e7-48e4-e120-20c29ae2db0b"
      },
      "source": [
        "flights_sort.merge(airports, left_on='ORIGIN_AIRPORT', right_on='IATA_CODE', how = 'inner').head(1)"
      ],
      "execution_count": 19,
      "outputs": [
        {
          "output_type": "execute_result",
          "data": {
            "text/html": [
              "<div>\n",
              "<style scoped>\n",
              "    .dataframe tbody tr th:only-of-type {\n",
              "        vertical-align: middle;\n",
              "    }\n",
              "\n",
              "    .dataframe tbody tr th {\n",
              "        vertical-align: top;\n",
              "    }\n",
              "\n",
              "    .dataframe thead th {\n",
              "        text-align: right;\n",
              "    }\n",
              "</style>\n",
              "<table border=\"1\" class=\"dataframe\">\n",
              "  <thead>\n",
              "    <tr style=\"text-align: right;\">\n",
              "      <th></th>\n",
              "      <th>ORIGIN_AIRPORT</th>\n",
              "      <th>DEPARTURE_DELAY</th>\n",
              "      <th>IATA_CODE</th>\n",
              "      <th>AIRPORT</th>\n",
              "      <th>CITY</th>\n",
              "      <th>STATE</th>\n",
              "      <th>COUNTRY</th>\n",
              "      <th>LATITUDE</th>\n",
              "      <th>LONGITUDE</th>\n",
              "    </tr>\n",
              "  </thead>\n",
              "  <tbody>\n",
              "    <tr>\n",
              "      <th>0</th>\n",
              "      <td>YAK</td>\n",
              "      <td>-6.292237</td>\n",
              "      <td>YAK</td>\n",
              "      <td>Yakutat Airport</td>\n",
              "      <td>Yakutat</td>\n",
              "      <td>AK</td>\n",
              "      <td>USA</td>\n",
              "      <td>59.50336</td>\n",
              "      <td>-139.66023</td>\n",
              "    </tr>\n",
              "  </tbody>\n",
              "</table>\n",
              "</div>"
            ],
            "text/plain": [
              "  ORIGIN_AIRPORT  DEPARTURE_DELAY IATA_CODE  ... COUNTRY  LATITUDE  LONGITUDE\n",
              "0            YAK        -6.292237       YAK  ...     USA  59.50336 -139.66023\n",
              "\n",
              "[1 rows x 9 columns]"
            ]
          },
          "metadata": {
            "tags": []
          },
          "execution_count": 19
        }
      ]
    },
    {
      "cell_type": "markdown",
      "metadata": {
        "id": "gmjZeZVuh91t"
      },
      "source": [
        "- нарисуем график адержек по аэропорту *Yakutat Airport*, который является аэропортов с минимальной зарержкой вылета"
      ]
    },
    {
      "cell_type": "code",
      "metadata": {
        "id": "8rfzX5fKlihD"
      },
      "source": [
        "import seaborn as sns, numpy as np\n",
        "import matplotlib.pyplot as plt"
      ],
      "execution_count": 20,
      "outputs": []
    },
    {
      "cell_type": "code",
      "metadata": {
        "colab": {
          "base_uri": "https://localhost:8080/",
          "height": 404
        },
        "id": "yM24zwPAcbyZ",
        "outputId": "81c0a9ec-c7b4-4330-cd18-f9b8da41c8c7"
      },
      "source": [
        "plt.figure(figsize=(20, 7))\n",
        "sns.displot(flights_drop[flights_drop.ORIGIN_AIRPORT=='YAK']['DEPARTURE_DELAY'], kde=True)\n",
        "plt.title('*Yakutat Airport*', fontsize=16);"
      ],
      "execution_count": 21,
      "outputs": [
        {
          "output_type": "display_data",
          "data": {
            "text/plain": [
              "<Figure size 1440x504 with 0 Axes>"
            ]
          },
          "metadata": {
            "tags": []
          }
        },
        {
          "output_type": "display_data",
          "data": {
            "image/png": "[encoded data removed]",
            "text/plain": [
              "<Figure size 360x360 with 1 Axes>"
            ]
          },
          "metadata": {
            "tags": [],
            "needs_background": "light"
          }
        }
      ]
    },
    {
      "cell_type": "markdown",
      "metadata": {
        "id": "tR3NaFSqCuBx"
      },
      "source": [
        "# 2. Самая пунктуальная авиакомпания на прилет в Los Angeles International Airport\n"
      ]
    },
    {
      "cell_type": "markdown",
      "metadata": {
        "id": "_tE5oi_IbWiw"
      },
      "source": [
        "- в колонке 'ARRIVAL_DELAY' (задержка прибытия), есть пропуски 1,8%, давайте их удалим, чтобы дальше работать с данными "
      ]
    },
    {
      "cell_type": "code",
      "metadata": {
        "colab": {
          "base_uri": "https://localhost:8080/"
        },
        "id": "2FFbLm3ChXjZ",
        "outputId": "a1d954ca-a59f-4098-c16f-eb155290f665"
      },
      "source": [
        "flights_drop = flights.dropna(subset=['ARRIVAL_DELAY'])\n",
        "flights_drop.isnull().sum()*100/flights_drop.shape[0]"
      ],
      "execution_count": 22,
      "outputs": [
        {
          "output_type": "execute_result",
          "data": {
            "text/plain": [
              "YEAR                     0.000000\n",
              "MONTH                    0.000000\n",
              "DAY                      0.000000\n",
              "DAY_OF_WEEK              0.000000\n",
              "AIRLINE                  0.000000\n",
              "FLIGHT_NUMBER            0.000000\n",
              "TAIL_NUMBER              0.000000\n",
              "ORIGIN_AIRPORT           0.000000\n",
              "DESTINATION_AIRPORT      0.000000\n",
              "SCHEDULED_DEPARTURE      0.000000\n",
              "DEPARTURE_TIME           0.000000\n",
              "DEPARTURE_DELAY          0.000000\n",
              "TAXI_OUT                 0.000000\n",
              "WHEELS_OFF               0.000000\n",
              "SCHEDULED_TIME           0.000000\n",
              "ELAPSED_TIME             0.000000\n",
              "AIR_TIME                 0.000000\n",
              "DISTANCE                 0.000000\n",
              "WHEELS_ON                0.000000\n",
              "TAXI_IN                  0.000000\n",
              "SCHEDULED_ARRIVAL        0.000000\n",
              "ARRIVAL_TIME             0.000000\n",
              "ARRIVAL_DELAY            0.000000\n",
              "DIVERTED                 0.000000\n",
              "CANCELLED                0.000000\n",
              "CANCELLATION_REASON    100.000000\n",
              "AIR_SYSTEM_DELAY        81.388913\n",
              "SECURITY_DELAY          81.388913\n",
              "AIRLINE_DELAY           81.388913\n",
              "LATE_AIRCRAFT_DELAY     81.388913\n",
              "WEATHER_DELAY           81.388913\n",
              "dtype: float64"
            ]
          },
          "metadata": {
            "tags": []
          },
          "execution_count": 22
        }
      ]
    },
    {
      "cell_type": "markdown",
      "metadata": {
        "id": "koLSo-FIbtYx"
      },
      "source": [
        "- далее проведем группировку по аэпропорту 'LAX' (Los Angeles), как указвно в задачи и среднему значению задержки прибытия\n"
      ]
    },
    {
      "cell_type": "code",
      "metadata": {
        "colab": {
          "base_uri": "https://localhost:8080/",
          "height": 452
        },
        "id": "ozhfU6VGTqEt",
        "outputId": "03ecdcf3-aaf0-497d-85f5-5f7c8719be82"
      },
      "source": [
        "flights_arrival = flights_drop[flights_drop.DESTINATION_AIRPORT=='LAX'].groupby('AIRLINE')['ARRIVAL_DELAY'].mean().reset_index()\n",
        "flights_arrival"
      ],
      "execution_count": 23,
      "outputs": [
        {
          "output_type": "execute_result",
          "data": {
            "text/html": [
              "<div>\n",
              "<style scoped>\n",
              "    .dataframe tbody tr th:only-of-type {\n",
              "        vertical-align: middle;\n",
              "    }\n",
              "\n",
              "    .dataframe tbody tr th {\n",
              "        vertical-align: top;\n",
              "    }\n",
              "\n",
              "    .dataframe thead th {\n",
              "        text-align: right;\n",
              "    }\n",
              "</style>\n",
              "<table border=\"1\" class=\"dataframe\">\n",
              "  <thead>\n",
              "    <tr style=\"text-align: right;\">\n",
              "      <th></th>\n",
              "      <th>AIRLINE</th>\n",
              "      <th>ARRIVAL_DELAY</th>\n",
              "    </tr>\n",
              "  </thead>\n",
              "  <tbody>\n",
              "    <tr>\n",
              "      <th>0</th>\n",
              "      <td>AA</td>\n",
              "      <td>2.691133</td>\n",
              "    </tr>\n",
              "    <tr>\n",
              "      <th>1</th>\n",
              "      <td>AS</td>\n",
              "      <td>0.536180</td>\n",
              "    </tr>\n",
              "    <tr>\n",
              "      <th>2</th>\n",
              "      <td>B6</td>\n",
              "      <td>0.155539</td>\n",
              "    </tr>\n",
              "    <tr>\n",
              "      <th>3</th>\n",
              "      <td>DL</td>\n",
              "      <td>2.135468</td>\n",
              "    </tr>\n",
              "    <tr>\n",
              "      <th>4</th>\n",
              "      <td>F9</td>\n",
              "      <td>11.630624</td>\n",
              "    </tr>\n",
              "    <tr>\n",
              "      <th>5</th>\n",
              "      <td>HA</td>\n",
              "      <td>-4.668819</td>\n",
              "    </tr>\n",
              "    <tr>\n",
              "      <th>6</th>\n",
              "      <td>MQ</td>\n",
              "      <td>18.302469</td>\n",
              "    </tr>\n",
              "    <tr>\n",
              "      <th>7</th>\n",
              "      <td>NK</td>\n",
              "      <td>18.502564</td>\n",
              "    </tr>\n",
              "    <tr>\n",
              "      <th>8</th>\n",
              "      <td>OO</td>\n",
              "      <td>8.645215</td>\n",
              "    </tr>\n",
              "    <tr>\n",
              "      <th>9</th>\n",
              "      <td>UA</td>\n",
              "      <td>8.551574</td>\n",
              "    </tr>\n",
              "    <tr>\n",
              "      <th>10</th>\n",
              "      <td>US</td>\n",
              "      <td>3.039387</td>\n",
              "    </tr>\n",
              "    <tr>\n",
              "      <th>11</th>\n",
              "      <td>VX</td>\n",
              "      <td>4.424613</td>\n",
              "    </tr>\n",
              "    <tr>\n",
              "      <th>12</th>\n",
              "      <td>WN</td>\n",
              "      <td>9.008806</td>\n",
              "    </tr>\n",
              "  </tbody>\n",
              "</table>\n",
              "</div>"
            ],
            "text/plain": [
              "   AIRLINE  ARRIVAL_DELAY\n",
              "0       AA       2.691133\n",
              "1       AS       0.536180\n",
              "2       B6       0.155539\n",
              "3       DL       2.135468\n",
              "4       F9      11.630624\n",
              "5       HA      -4.668819\n",
              "6       MQ      18.302469\n",
              "7       NK      18.502564\n",
              "8       OO       8.645215\n",
              "9       UA       8.551574\n",
              "10      US       3.039387\n",
              "11      VX       4.424613\n",
              "12      WN       9.008806"
            ]
          },
          "metadata": {
            "tags": []
          },
          "execution_count": 23
        }
      ]
    },
    {
      "cell_type": "markdown",
      "metadata": {
        "id": "ZWkhYmP6cSwu"
      },
      "source": [
        "- из полученного DataFrame, проведем сотртировку по задержке прибытия по возрастанию "
      ]
    },
    {
      "cell_type": "code",
      "metadata": {
        "colab": {
          "base_uri": "https://localhost:8080/",
          "height": 452
        },
        "id": "fMmfn7_bVU4U",
        "outputId": "c7452bb5-3900-4463-f077-47c76e5376e5"
      },
      "source": [
        "flights_airline = flights_arrival.sort_values(by='ARRIVAL_DELAY')\n",
        "flights_airline"
      ],
      "execution_count": 24,
      "outputs": [
        {
          "output_type": "execute_result",
          "data": {
            "text/html": [
              "<div>\n",
              "<style scoped>\n",
              "    .dataframe tbody tr th:only-of-type {\n",
              "        vertical-align: middle;\n",
              "    }\n",
              "\n",
              "    .dataframe tbody tr th {\n",
              "        vertical-align: top;\n",
              "    }\n",
              "\n",
              "    .dataframe thead th {\n",
              "        text-align: right;\n",
              "    }\n",
              "</style>\n",
              "<table border=\"1\" class=\"dataframe\">\n",
              "  <thead>\n",
              "    <tr style=\"text-align: right;\">\n",
              "      <th></th>\n",
              "      <th>AIRLINE</th>\n",
              "      <th>ARRIVAL_DELAY</th>\n",
              "    </tr>\n",
              "  </thead>\n",
              "  <tbody>\n",
              "    <tr>\n",
              "      <th>5</th>\n",
              "      <td>HA</td>\n",
              "      <td>-4.668819</td>\n",
              "    </tr>\n",
              "    <tr>\n",
              "      <th>2</th>\n",
              "      <td>B6</td>\n",
              "      <td>0.155539</td>\n",
              "    </tr>\n",
              "    <tr>\n",
              "      <th>1</th>\n",
              "      <td>AS</td>\n",
              "      <td>0.536180</td>\n",
              "    </tr>\n",
              "    <tr>\n",
              "      <th>3</th>\n",
              "      <td>DL</td>\n",
              "      <td>2.135468</td>\n",
              "    </tr>\n",
              "    <tr>\n",
              "      <th>0</th>\n",
              "      <td>AA</td>\n",
              "      <td>2.691133</td>\n",
              "    </tr>\n",
              "    <tr>\n",
              "      <th>10</th>\n",
              "      <td>US</td>\n",
              "      <td>3.039387</td>\n",
              "    </tr>\n",
              "    <tr>\n",
              "      <th>11</th>\n",
              "      <td>VX</td>\n",
              "      <td>4.424613</td>\n",
              "    </tr>\n",
              "    <tr>\n",
              "      <th>9</th>\n",
              "      <td>UA</td>\n",
              "      <td>8.551574</td>\n",
              "    </tr>\n",
              "    <tr>\n",
              "      <th>8</th>\n",
              "      <td>OO</td>\n",
              "      <td>8.645215</td>\n",
              "    </tr>\n",
              "    <tr>\n",
              "      <th>12</th>\n",
              "      <td>WN</td>\n",
              "      <td>9.008806</td>\n",
              "    </tr>\n",
              "    <tr>\n",
              "      <th>4</th>\n",
              "      <td>F9</td>\n",
              "      <td>11.630624</td>\n",
              "    </tr>\n",
              "    <tr>\n",
              "      <th>6</th>\n",
              "      <td>MQ</td>\n",
              "      <td>18.302469</td>\n",
              "    </tr>\n",
              "    <tr>\n",
              "      <th>7</th>\n",
              "      <td>NK</td>\n",
              "      <td>18.502564</td>\n",
              "    </tr>\n",
              "  </tbody>\n",
              "</table>\n",
              "</div>"
            ],
            "text/plain": [
              "   AIRLINE  ARRIVAL_DELAY\n",
              "5       HA      -4.668819\n",
              "2       B6       0.155539\n",
              "1       AS       0.536180\n",
              "3       DL       2.135468\n",
              "0       AA       2.691133\n",
              "10      US       3.039387\n",
              "11      VX       4.424613\n",
              "9       UA       8.551574\n",
              "8       OO       8.645215\n",
              "12      WN       9.008806\n",
              "4       F9      11.630624\n",
              "6       MQ      18.302469\n",
              "7       NK      18.502564"
            ]
          },
          "metadata": {
            "tags": []
          },
          "execution_count": 24
        }
      ]
    },
    {
      "cell_type": "markdown",
      "metadata": {
        "id": "3AfT6Hx0dCa0"
      },
      "source": [
        "- и по полученным данным, находим самую пунтктуальную авиакомпанию на прилете в Los Angeles International Airport"
      ]
    },
    {
      "cell_type": "code",
      "metadata": {
        "colab": {
          "base_uri": "https://localhost:8080/",
          "height": 80
        },
        "id": "FFW0D_AtXexZ",
        "outputId": "be81d2bd-a183-4b8f-ba6e-c2f989713a48"
      },
      "source": [
        "flights_airline.merge(airlines, left_on='AIRLINE', right_on='IATA_CODE', how = 'inner').head(1).drop('AIRLINE_x', axis=1)"
      ],
      "execution_count": 25,
      "outputs": [
        {
          "output_type": "execute_result",
          "data": {
            "text/html": [
              "<div>\n",
              "<style scoped>\n",
              "    .dataframe tbody tr th:only-of-type {\n",
              "        vertical-align: middle;\n",
              "    }\n",
              "\n",
              "    .dataframe tbody tr th {\n",
              "        vertical-align: top;\n",
              "    }\n",
              "\n",
              "    .dataframe thead th {\n",
              "        text-align: right;\n",
              "    }\n",
              "</style>\n",
              "<table border=\"1\" class=\"dataframe\">\n",
              "  <thead>\n",
              "    <tr style=\"text-align: right;\">\n",
              "      <th></th>\n",
              "      <th>ARRIVAL_DELAY</th>\n",
              "      <th>IATA_CODE</th>\n",
              "      <th>AIRLINE_y</th>\n",
              "    </tr>\n",
              "  </thead>\n",
              "  <tbody>\n",
              "    <tr>\n",
              "      <th>0</th>\n",
              "      <td>-4.668819</td>\n",
              "      <td>HA</td>\n",
              "      <td>Hawaiian Airlines Inc.</td>\n",
              "    </tr>\n",
              "  </tbody>\n",
              "</table>\n",
              "</div>"
            ],
            "text/plain": [
              "   ARRIVAL_DELAY IATA_CODE               AIRLINE_y\n",
              "0      -4.668819        HA  Hawaiian Airlines Inc."
            ]
          },
          "metadata": {
            "tags": []
          },
          "execution_count": 25
        }
      ]
    },
    {
      "cell_type": "markdown",
      "metadata": {
        "id": "pCgF3mc3diVN"
      },
      "source": [
        "# 3. Аэропорт с самой большой долей руления на 1 самолетовылет\n"
      ]
    },
    {
      "cell_type": "markdown",
      "metadata": {
        "id": "1hm5JKrwCZWe"
      },
      "source": [
        "- Посмотрим пропуски по колонкам, с котрыми будем работать по данной задачи (данные выше): 'TAXI_OUT'(руление), 'ORIGIN_AIRPORT'(стартовый аэропорт), 'CANCELLED'(отмена рейса, 1=отмена)\n",
        "\n",
        "- в колонке 'TAXI_OUT', есть пропуски, двайте их удалим"
      ]
    },
    {
      "cell_type": "code",
      "metadata": {
        "colab": {
          "base_uri": "https://localhost:8080/"
        },
        "id": "XYdCGmHznD-N",
        "outputId": "81de053a-ca41-4c5a-e77f-1d570ee4fc00"
      },
      "source": [
        "flights_drop = flights.dropna(subset=['TAXI_OUT'])\n",
        "flights_drop.isnull().sum()*100/flights_drop.shape[0]"
      ],
      "execution_count": 26,
      "outputs": [
        {
          "output_type": "execute_result",
          "data": {
            "text/plain": [
              "YEAR                    0.000000\n",
              "MONTH                   0.000000\n",
              "DAY                     0.000000\n",
              "DAY_OF_WEEK             0.000000\n",
              "AIRLINE                 0.000000\n",
              "FLIGHT_NUMBER           0.000000\n",
              "TAIL_NUMBER             0.000000\n",
              "ORIGIN_AIRPORT          0.000000\n",
              "DESTINATION_AIRPORT     0.000000\n",
              "SCHEDULED_DEPARTURE     0.000000\n",
              "DEPARTURE_TIME          0.000000\n",
              "DEPARTURE_DELAY         0.000000\n",
              "TAXI_OUT                0.000000\n",
              "WHEELS_OFF              0.000000\n",
              "SCHEDULED_TIME          0.000105\n",
              "ELAPSED_TIME            0.279649\n",
              "AIR_TIME                0.279649\n",
              "DISTANCE                0.000000\n",
              "WHEELS_ON               0.060488\n",
              "TAXI_IN                 0.060488\n",
              "SCHEDULED_ARRIVAL       0.000000\n",
              "ARRIVAL_TIME            0.060488\n",
              "ARRIVAL_DELAY           0.279649\n",
              "DIVERTED                0.000000\n",
              "CANCELLED               0.000000\n",
              "CANCELLATION_REASON    99.985393\n",
              "AIR_SYSTEM_DELAY       81.440959\n",
              "SECURITY_DELAY         81.440959\n",
              "AIRLINE_DELAY          81.440959\n",
              "LATE_AIRCRAFT_DELAY    81.440959\n",
              "WEATHER_DELAY          81.440959\n",
              "dtype: float64"
            ]
          },
          "metadata": {
            "tags": []
          },
          "execution_count": 26
        }
      ]
    },
    {
      "cell_type": "markdown",
      "metadata": {
        "id": "p6vZ1_SFdXMG"
      },
      "source": [
        "- создадим функцию, которая извлекает статистические параметры из объекта groupby по аэропортам ('ORIGIN_AIRPORT'), чтобы получит отношения суммы руления и количества вылетов, таким образом мы найдем мы найдем аэропорт с самой большой долей руления "
      ]
    },
    {
      "cell_type": "code",
      "metadata": {
        "colab": {
          "base_uri": "https://localhost:8080/",
          "height": 450
        },
        "id": "5CrSQs6GbBqs",
        "outputId": "4de4b176-8634-4835-a68c-a964fd727b12"
      },
      "source": [
        "def deff(group):\n",
        "    return {'deff': group.sum()/group.count()}\n",
        "flights_deff = flights_drop[flights_drop.CANCELLED==0]['TAXI_OUT'].groupby(flights_drop['ORIGIN_AIRPORT']).apply(deff).unstack()\n",
        "flights_deff = flights_deff.sort_values('deff', ascending=False)\n",
        "flights_deff"
      ],
      "execution_count": 27,
      "outputs": [
        {
          "output_type": "execute_result",
          "data": {
            "text/html": [
              "<div>\n",
              "<style scoped>\n",
              "    .dataframe tbody tr th:only-of-type {\n",
              "        vertical-align: middle;\n",
              "    }\n",
              "\n",
              "    .dataframe tbody tr th {\n",
              "        vertical-align: top;\n",
              "    }\n",
              "\n",
              "    .dataframe thead th {\n",
              "        text-align: right;\n",
              "    }\n",
              "</style>\n",
              "<table border=\"1\" class=\"dataframe\">\n",
              "  <thead>\n",
              "    <tr style=\"text-align: right;\">\n",
              "      <th></th>\n",
              "      <th>deff</th>\n",
              "    </tr>\n",
              "    <tr>\n",
              "      <th>ORIGIN_AIRPORT</th>\n",
              "      <th></th>\n",
              "    </tr>\n",
              "  </thead>\n",
              "  <tbody>\n",
              "    <tr>\n",
              "      <th>JFK</th>\n",
              "      <td>27.010175</td>\n",
              "    </tr>\n",
              "    <tr>\n",
              "      <th>LGA</th>\n",
              "      <td>26.721596</td>\n",
              "    </tr>\n",
              "    <tr>\n",
              "      <th>12953</th>\n",
              "      <td>26.660012</td>\n",
              "    </tr>\n",
              "    <tr>\n",
              "      <th>12478</th>\n",
              "      <td>23.677466</td>\n",
              "    </tr>\n",
              "    <tr>\n",
              "      <th>13502</th>\n",
              "      <td>23.666667</td>\n",
              "    </tr>\n",
              "    <tr>\n",
              "      <th>...</th>\n",
              "      <td>...</td>\n",
              "    </tr>\n",
              "    <tr>\n",
              "      <th>SCC</th>\n",
              "      <td>7.097969</td>\n",
              "    </tr>\n",
              "    <tr>\n",
              "      <th>10170</th>\n",
              "      <td>6.857143</td>\n",
              "    </tr>\n",
              "    <tr>\n",
              "      <th>BRW</th>\n",
              "      <td>6.798309</td>\n",
              "    </tr>\n",
              "    <tr>\n",
              "      <th>ADQ</th>\n",
              "      <td>6.574371</td>\n",
              "    </tr>\n",
              "    <tr>\n",
              "      <th>CNY</th>\n",
              "      <td>6.512195</td>\n",
              "    </tr>\n",
              "  </tbody>\n",
              "</table>\n",
              "<p>628 rows × 1 columns</p>\n",
              "</div>"
            ],
            "text/plain": [
              "                     deff\n",
              "ORIGIN_AIRPORT           \n",
              "JFK             27.010175\n",
              "LGA             26.721596\n",
              "12953           26.660012\n",
              "12478           23.677466\n",
              "13502           23.666667\n",
              "...                   ...\n",
              "SCC              7.097969\n",
              "10170            6.857143\n",
              "BRW              6.798309\n",
              "ADQ              6.574371\n",
              "CNY              6.512195\n",
              "\n",
              "[628 rows x 1 columns]"
            ]
          },
          "metadata": {
            "tags": []
          },
          "execution_count": 27
        }
      ]
    },
    {
      "cell_type": "markdown",
      "metadata": {
        "id": "5OCJ0APZgHPo"
      },
      "source": [
        "- соединяем данные из полученного DataFrame и таблицы 'airports', для вывода аэропорта с самой большой долей руления на 1 самолетовылет"
      ]
    },
    {
      "cell_type": "code",
      "metadata": {
        "colab": {
          "base_uri": "https://localhost:8080/",
          "height": 97
        },
        "id": "RamVdx-FQCGS",
        "outputId": "04723b23-1450-48f4-a979-659c037fc1f9"
      },
      "source": [
        "flights_deff.merge(airports, left_on='ORIGIN_AIRPORT', right_on='IATA_CODE', how = 'inner').head(1)"
      ],
      "execution_count": 28,
      "outputs": [
        {
          "output_type": "execute_result",
          "data": {
            "text/html": [
              "<div>\n",
              "<style scoped>\n",
              "    .dataframe tbody tr th:only-of-type {\n",
              "        vertical-align: middle;\n",
              "    }\n",
              "\n",
              "    .dataframe tbody tr th {\n",
              "        vertical-align: top;\n",
              "    }\n",
              "\n",
              "    .dataframe thead th {\n",
              "        text-align: right;\n",
              "    }\n",
              "</style>\n",
              "<table border=\"1\" class=\"dataframe\">\n",
              "  <thead>\n",
              "    <tr style=\"text-align: right;\">\n",
              "      <th></th>\n",
              "      <th>deff</th>\n",
              "      <th>IATA_CODE</th>\n",
              "      <th>AIRPORT</th>\n",
              "      <th>CITY</th>\n",
              "      <th>STATE</th>\n",
              "      <th>COUNTRY</th>\n",
              "      <th>LATITUDE</th>\n",
              "      <th>LONGITUDE</th>\n",
              "    </tr>\n",
              "  </thead>\n",
              "  <tbody>\n",
              "    <tr>\n",
              "      <th>0</th>\n",
              "      <td>27.010175</td>\n",
              "      <td>JFK</td>\n",
              "      <td>John F. Kennedy International Airport (New Yor...</td>\n",
              "      <td>New York</td>\n",
              "      <td>NY</td>\n",
              "      <td>USA</td>\n",
              "      <td>40.63975</td>\n",
              "      <td>-73.77893</td>\n",
              "    </tr>\n",
              "  </tbody>\n",
              "</table>\n",
              "</div>"
            ],
            "text/plain": [
              "        deff IATA_CODE  ...  LATITUDE LONGITUDE\n",
              "0  27.010175       JFK  ...  40.63975 -73.77893\n",
              "\n",
              "[1 rows x 8 columns]"
            ]
          },
          "metadata": {
            "tags": []
          },
          "execution_count": 28
        }
      ]
    },
    {
      "cell_type": "markdown",
      "metadata": {
        "id": "Ny9sf9oWe9hK"
      },
      "source": [
        "# 4. Построить модель которая будет выбирать топ 3 аэропорта прилета (вероятность опоздания минимальная – RMSE метрика), в зависимости от аэропорта вылета"
      ]
    },
    {
      "cell_type": "markdown",
      "metadata": {
        "id": "MqfsuySN7nyp"
      },
      "source": [
        "- Группируем flights_drop до дня"
      ]
    },
    {
      "cell_type": "code",
      "metadata": {
        "ExecuteTime": {
          "end_time": "2021-07-15T11:12:37.060113Z",
          "start_time": "2021-07-15T11:08:21.421353Z"
        },
        "id": "l07bQSsPe9hP",
        "colab": {
          "base_uri": "https://localhost:8080/"
        },
        "outputId": "cb2fed85-2fde-4a4f-abdf-a568cddd9b24"
      },
      "source": [
        "%%time\n",
        "def make_date(df):\n",
        "  return datetime.date(df.YEAR, df.MONTH, df.DAY)\n",
        "\n",
        "def make_features(data, max_lag, rolling_mean_size):\n",
        "    data['year'] = data.dDate.dt.year\n",
        "    data['month'] = data.dDate.dt.month\n",
        "    data['day'] = data.dDate.dt.day\n",
        "    data['dayofweek'] = data.dDate.dt.dayofweek\n",
        "    for lag in range(1, max_lag + 1):\n",
        "        data['lag_{}'.format(lag)] = data['ARRIVAL_DELAY'].shift(lag)\n",
        "\n",
        "flights_drop['dDate'] = flights_drop.apply(make_date,axis = 1)"
      ],
      "execution_count": 29,
      "outputs": [
        {
          "output_type": "stream",
          "text": [
            "CPU times: user 2min 22s, sys: 2.39 s, total: 2min 25s\n",
            "Wall time: 2min 25s\n"
          ],
          "name": "stdout"
        },
        {
          "output_type": "stream",
          "text": [
            "/usr/local/lib/python3.7/dist-packages/ipykernel_launcher.py:12: SettingWithCopyWarning: \n",
            "A value is trying to be set on a copy of a slice from a DataFrame.\n",
            "Try using .loc[row_indexer,col_indexer] = value instead\n",
            "\n",
            "See the caveats in the documentation: https://pandas.pydata.org/pandas-docs/stable/user_guide/indexing.html#returning-a-view-versus-a-copy\n",
            "  if sys.path[0] == '':\n"
          ],
          "name": "stderr"
        }
      ]
    },
    {
      "cell_type": "markdown",
      "metadata": {
        "id": "2PLMJ5pz3GZJ"
      },
      "source": [
        "- Проводим группировку по датам, аэропортам прилета и задержке прибытия и преобразовываем даты(числа) в формат datetime, для генерачии фич, для временного ряда"
      ]
    },
    {
      "cell_type": "code",
      "metadata": {
        "ExecuteTime": {
          "end_time": "2021-07-15T11:12:38.846597Z",
          "start_time": "2021-07-15T11:12:37.062495Z"
        },
        "colab": {
          "base_uri": "https://localhost:8080/"
        },
        "id": "qbG_24Y46h4a",
        "outputId": "8f178471-accb-492e-b8b4-d66e556f9f29"
      },
      "source": [
        "%%time\n",
        "flight_grouped = flights_drop.groupby(['dDate','DESTINATION_AIRPORT'])['ARRIVAL_DELAY'].sum().reset_index()\n",
        "flight_grouped['dDate'] = pd.to_datetime(flight_grouped['dDate'])"
      ],
      "execution_count": null,
      "outputs": [
        {
          "output_type": "stream",
          "text": [
            "CPU times: user 858 ms, sys: 9.8 ms, total: 868 ms\n",
            "Wall time: 867 ms\n"
          ],
          "name": "stdout"
        }
      ]
    },
    {
      "cell_type": "markdown",
      "metadata": {
        "id": "7yuXHf6175uV"
      },
      "source": [
        "- делим flights на train/test\n",
        "\n",
        "- генерируем фичи для временного ряда\n",
        "\n",
        "- строим модель 'ARRIAL_DELAY'(задержка прибытия) для всех аэропортов \n",
        "\n",
        "\n",
        "\n"
      ]
    },
    {
      "cell_type": "code",
      "metadata": {
        "ExecuteTime": {
          "end_time": "2021-07-15T11:12:49.209376Z",
          "start_time": "2021-07-15T11:12:38.848844Z"
        },
        "colab": {
          "base_uri": "https://localhost:8080/"
        },
        "id": "CrECS8JI6lcW",
        "outputId": "3c470ab4-882b-4779-d70a-90adaa4809a0"
      },
      "source": [
        "%%time\n",
        "where_to_go = []\n",
        "for dest in flight_grouped.DESTINATION_AIRPORT.unique():\n",
        "    tempo = flight_grouped[flight_grouped.DESTINATION_AIRPORT==dest][['dDate','ARRIVAL_DELAY']]\n",
        "    tempo.columns = ['dDate','ARRIVAL_DELAY']\n",
        "    tempo = pd.DataFrame(tempo)\n",
        "    \n",
        "    try:\n",
        "    \n",
        "        make_features(tempo,21,7)\n",
        "        tempo.dropna(inplace=True)\n",
        "        tempo.set_index('dDate',inplace=True)\n",
        "           \n",
        "        X_train,X_test,y_train, y_test = train_test_split(tempo.drop('ARRIVAL_DELAY', axis=1),tempo.ARRIVAL_DELAY, shuffle=False, test_size=0.25)\n",
        "\n",
        "        model_lr = LinearRegression()\n",
        "        model_lr.fit(X_train,y_train)\n",
        "\n",
        "        y_predicted_lr = model_lr.predict(X_test)\n",
        "        where_to_go.append([dest,y_test.mean(),np.sqrt(mean_squared_error(y_test, y_predicted_lr))])\n",
        "\n",
        "    except Exception as e:\n",
        "        print('Error', str(e))"
      ],
      "execution_count": null,
      "outputs": [
        {
          "output_type": "stream",
          "text": [
            "CPU times: user 9.58 s, sys: 54.4 ms, total: 9.64 s\n",
            "Wall time: 9.59 s\n"
          ],
          "name": "stdout"
        }
      ]
    },
    {
      "cell_type": "markdown",
      "metadata": {
        "id": "0GBJktkQ8Tbh"
      },
      "source": [
        "- собираем DataFrame из данных: аэропорт прилета, среднего значения по задержке прибытия и параметра RMSE (среднеквадратичная ошибка), как указано в задачи (вероятность опоздания минимальная - RMSE метрика), которую мы посчитали выше"
      ]
    },
    {
      "cell_type": "code",
      "metadata": {
        "ExecuteTime": {
          "end_time": "2021-07-15T11:12:49.219551Z",
          "start_time": "2021-07-15T11:12:49.212551Z"
        },
        "colab": {
          "base_uri": "https://localhost:8080/"
        },
        "id": "T8GptErD6vgQ",
        "outputId": "77dd876d-73b2-442a-d0fd-b0cb923689c6"
      },
      "source": [
        "%%time\n",
        "where_to_go = pd.DataFrame(where_to_go)\n",
        "where_to_go.columns = ['DESTINATION_AIRPORT','MEAN_ARRIVAL_DELAY_IN_PAST','RMSE']"
      ],
      "execution_count": null,
      "outputs": [
        {
          "output_type": "stream",
          "text": [
            "CPU times: user 1.8 ms, sys: 0 ns, total: 1.8 ms\n",
            "Wall time: 1.82 ms\n"
          ],
          "name": "stdout"
        }
      ]
    },
    {
      "cell_type": "code",
      "metadata": {
        "ExecuteTime": {
          "end_time": "2021-07-15T11:12:49.229448Z",
          "start_time": "2021-07-15T11:12:49.221239Z"
        },
        "colab": {
          "base_uri": "https://localhost:8080/",
          "height": 204
        },
        "id": "k40gOD745jWr",
        "outputId": "cd959f65-f8bb-454d-9bfc-047b24078d17"
      },
      "source": [
        "where_to_go.head()"
      ],
      "execution_count": null,
      "outputs": [
        {
          "output_type": "execute_result",
          "data": {
            "text/html": [
              "<div>\n",
              "<style scoped>\n",
              "    .dataframe tbody tr th:only-of-type {\n",
              "        vertical-align: middle;\n",
              "    }\n",
              "\n",
              "    .dataframe tbody tr th {\n",
              "        vertical-align: top;\n",
              "    }\n",
              "\n",
              "    .dataframe thead th {\n",
              "        text-align: right;\n",
              "    }\n",
              "</style>\n",
              "<table border=\"1\" class=\"dataframe\">\n",
              "  <thead>\n",
              "    <tr style=\"text-align: right;\">\n",
              "      <th></th>\n",
              "      <th>DESTINATION_AIRPORT</th>\n",
              "      <th>MEAN_ARRIVAL_DELAY_IN_PAST</th>\n",
              "      <th>RMSE</th>\n",
              "    </tr>\n",
              "  </thead>\n",
              "  <tbody>\n",
              "    <tr>\n",
              "      <th>0</th>\n",
              "      <td>ABE</td>\n",
              "      <td>32.316456</td>\n",
              "      <td>96.974756</td>\n",
              "    </tr>\n",
              "    <tr>\n",
              "      <th>1</th>\n",
              "      <td>ABI</td>\n",
              "      <td>-5.683544</td>\n",
              "      <td>92.460573</td>\n",
              "    </tr>\n",
              "    <tr>\n",
              "      <th>2</th>\n",
              "      <td>ABQ</td>\n",
              "      <td>205.240506</td>\n",
              "      <td>410.706845</td>\n",
              "    </tr>\n",
              "    <tr>\n",
              "      <th>3</th>\n",
              "      <td>ABR</td>\n",
              "      <td>0.443038</td>\n",
              "      <td>44.048350</td>\n",
              "    </tr>\n",
              "    <tr>\n",
              "      <th>4</th>\n",
              "      <td>ABY</td>\n",
              "      <td>26.645570</td>\n",
              "      <td>64.908040</td>\n",
              "    </tr>\n",
              "  </tbody>\n",
              "</table>\n",
              "</div>"
            ],
            "text/plain": [
              "  DESTINATION_AIRPORT  MEAN_ARRIVAL_DELAY_IN_PAST        RMSE\n",
              "0                 ABE                   32.316456   96.974756\n",
              "1                 ABI                   -5.683544   92.460573\n",
              "2                 ABQ                  205.240506  410.706845\n",
              "3                 ABR                    0.443038   44.048350\n",
              "4                 ABY                   26.645570   64.908040"
            ]
          },
          "metadata": {
            "tags": []
          },
          "execution_count": 40
        }
      ]
    },
    {
      "cell_type": "markdown",
      "metadata": {
        "id": "qYZ0loar6-Jg"
      },
      "source": [
        "- случайным образом выбираем аэропорт вылета \n",
        "\n",
        "- используя данные моделей выбираем ТОП3 аэропорта с минимальной задержкой и RMSE"
      ]
    },
    {
      "cell_type": "code",
      "metadata": {
        "ExecuteTime": {
          "end_time": "2021-07-15T11:12:49.811197Z",
          "start_time": "2021-07-15T11:12:49.231020Z"
        },
        "colab": {
          "base_uri": "https://localhost:8080/"
        },
        "id": "FuQOdGGL64yf",
        "outputId": "6a75e04f-9e5a-4be5-ee41-9bcfacace8ac"
      },
      "source": [
        "%%time\n",
        "start_airport = np.random.choice(flights_drop['ORIGIN_AIRPORT'].unique()) \n",
        "where_to_go_from_start_airport = flights_drop[flights_drop.ORIGIN_AIRPORT==start_airport]['DESTINATION_AIRPORT'].unique()\n",
        "\n",
        "where_to_go_from_start_airport = pd.DataFrame(where_to_go_from_start_airport)\n",
        "where_to_go_from_start_airport.columns = ['DESTINATION_AIRPORT']\n",
        "\n",
        "top3 = where_to_go_from_start_airport\\\n",
        "    .merge(where_to_go,on='DESTINATION_AIRPORT',how='inner')\\\n",
        "    .sort_values(by=['RMSE','MEAN_ARRIVAL_DELAY_IN_PAST'],ascending=[True, True])\\\n",
        "    .head(3)\n",
        "\n",
        "print('Лучшие направления с аэропорта',start_airport)\n",
        "print('')\n",
        "print(top3)"
      ],
      "execution_count": null,
      "outputs": [
        {
          "output_type": "stream",
          "text": [
            "Лучшие направления с аэропорта LSE\n",
            "\n",
            "  DESTINATION_AIRPORT  MEAN_ARRIVAL_DELAY_IN_PAST          RMSE\n",
            "0                 MSP                  547.721519   2985.553102\n",
            "1                 ORD                 1024.860759  15112.145888\n",
            "CPU times: user 606 ms, sys: 1.84 ms, total: 608 ms\n",
            "Wall time: 607 ms\n"
          ],
          "name": "stdout"
        }
      ]
    },
    {
      "cell_type": "markdown",
      "metadata": {
        "id": "lcfcF1x8Wl1K"
      },
      "source": [
        "- Данная модель построеная на методе линейной регрессии.\n",
        "Она прогназурует среднее значение задержки прибытия в прошлом и качество модели по RMSE, в зависимсти от аэпопорта вылета, и паказавает три лучших аэропорта с минимальной вероятностью опоздания."
      ]
    }
  ]
}